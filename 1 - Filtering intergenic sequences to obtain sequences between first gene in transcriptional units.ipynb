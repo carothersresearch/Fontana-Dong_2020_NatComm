{
 "cells": [
  {
   "cell_type": "markdown",
   "metadata": {},
   "source": [
    "## Importing data and pre-processing to remove genes in operons\n",
    "Our source file comes from EcoGene and contains information on the intergenic sequences of *E. coli*. Intergenic regions are intended from start to stop codon."
   ]
  },
  {
   "cell_type": "code",
   "execution_count": 1,
   "metadata": {
    "collapsed": true
   },
   "outputs": [],
   "source": [
    "import numpy as np\n",
    "import pandas as pd\n",
    "\n",
    "#read from file\n",
    "df = pd.read_table(\"./source/intergenic_table\")\n",
    "original_length = len(df.index)\n",
    "\n",
    "def OrientationSplit(df):\n",
    "    \n",
    "    # Removing convergent genes. We won't target here and these intergenic regions are not of interest to us.\n",
    "    df_convergent = df[df.Orientation == \"Convergent\"]\n",
    "    df = df[df.Orientation <> \"Convergent\"]\n",
    "\n",
    "    # dividing by gene orientation\n",
    "    df_div = df[df.Orientation == \"Divergent\"]\n",
    "    df_co_plus = df[df.Orientation == \"Codirectional+\"]\n",
    "    df_co_min = df[df.Orientation == \"Codirectional-\"]\n",
    "\n",
    "    # Merging codirectional genes on top and bottom strand\n",
    "    df_co = pd.concat([df_co_plus, df_co_min])\n",
    "    \n",
    "    return df_div, df_co"
   ]
  },
  {
   "cell_type": "code",
   "execution_count": 2,
   "metadata": {
    "collapsed": false
   },
   "outputs": [],
   "source": [
    "# Let's add the first and second gene of each intergenic region as a separate field, as well as wheter or not it's part of an operon.\n",
    "\n",
    "def AnnotateTranscriptionalUnits(df):   \n",
    "    df_div, df_co = OrientationSplit(df)\n",
    "    \n",
    "    ## CODIRECTIONAL GENES\n",
    "    df_co_ann = df_co\n",
    "    df_co_ann[\"firstGene\"]=df_co_ann.Name.str.split(\"_\", expand=True)[0]\n",
    "    df_co_ann[\"secondGene\"]=df_co_ann.Name.str.split(\"_\", expand=True)[1]\n",
    "\n",
    "    # this is a database containing genes in operons from RegulonDB\n",
    "    operons = pd.read_table(\"./source/OperonSet_RegulonDB.txt\")\n",
    "    operons.drop(\"Evidence\", axis = 1, inplace=True)\n",
    "    operons_filtered1= operons[9:]\n",
    "    operons_filtered = operons_filtered1[operons_filtered1.NumberOfGenes<>1]\n",
    "\n",
    "    # however, the df goes in the direction of the top strand when saying gene1_gene2. For genes on the reverse strand, I need to reverse the list\n",
    "    # extract gene names, split by comma\n",
    "    GeneNames_forward = operons_filtered[operons_filtered.Strand==\"forward\"].GeneNames.str.split(\",\").tolist()\n",
    "    GeneNames_reverse = operons_filtered[operons_filtered.Strand==\"reverse\"].GeneNames.str.split(\",\").tolist()\n",
    "    for i in GeneNames_reverse:\n",
    "        i = i.reverse()\n",
    "    GeneNames = GeneNames_forward + GeneNames_reverse\n",
    "\n",
    "    # generate list of adjacent genes in operons that can be used to mark intergenic regions for removal.\n",
    "    geneDuplets = []\n",
    "    for i in GeneNames:\n",
    "        for j in range(len(i)-1):\n",
    "            geneDuplets.append(i[j]+\"_\"+i[j+1])\n",
    "    \n",
    "    GeneInOperon = []\n",
    "    for i in df_co_ann.Name: \n",
    "        if i in geneDuplets:\n",
    "            GeneInOperon.append(\"True\")\n",
    "        else:\n",
    "            GeneInOperon.append(\"False\")\n",
    "    df_co_ann[\"GeneInOperon\"] = GeneInOperon\n",
    "    \n",
    "    ## DIVERGING GENES\n",
    "    df_div_ann = df_div\n",
    "    df_div_ann[\"firstGene\"]=df_div_ann.Name.str.split(\"_\", expand=True)[0]\n",
    "    df_div_ann[\"secondGene\"]=df_div_ann.Name.str.split(\"_\", expand=True)[1]\n",
    "    GeneInOperon_div = []\n",
    "    # no operons are diverging\n",
    "    for i in range(len(df_div_ann.Name.index)):\n",
    "        GeneInOperon_div.append(\"False\")\n",
    "    df_div_ann[\"GeneInOperon\"] = GeneInOperon_div\n",
    "        \n",
    "    return pd.concat([df_div_ann, df_co_ann])\n",
    "\n",
    "df_div, df_co = OrientationSplit(AnnotateTranscriptionalUnits(df))\n",
    "df_export = pd.concat([df_div, df_co])\n",
    "#df_export.to_excel(\"./export/All-Annotated.xls\")"
   ]
  },
  {
   "cell_type": "code",
   "execution_count": 3,
   "metadata": {
    "collapsed": true
   },
   "outputs": [],
   "source": [
    "df_export_TU = df_export[df_export.GeneInOperon == \"False\"]\n",
    "df_export_TU.to_excel(\"./export/All-Annotated_TU.xls\")"
   ]
  },
  {
   "cell_type": "code",
   "execution_count": 4,
   "metadata": {
    "collapsed": false
   },
   "outputs": [
    {
     "data": {
      "text/html": [
       "<div>\n",
       "<table border=\"1\" class=\"dataframe\">\n",
       "  <thead>\n",
       "    <tr style=\"text-align: right;\">\n",
       "      <th></th>\n",
       "      <th>Name</th>\n",
       "      <th>Length</th>\n",
       "      <th>Orientation</th>\n",
       "      <th>L_END</th>\n",
       "      <th>R_END</th>\n",
       "      <th>Cs</th>\n",
       "      <th>Unnamed: 6</th>\n",
       "      <th>firstGene</th>\n",
       "      <th>secondGene</th>\n",
       "      <th>GeneInOperon</th>\n",
       "    </tr>\n",
       "  </thead>\n",
       "  <tbody>\n",
       "    <tr>\n",
       "      <th>6</th>\n",
       "      <td>yaaJ_talB</td>\n",
       "      <td>278</td>\n",
       "      <td>Divergent</td>\n",
       "      <td>7960.0</td>\n",
       "      <td>8237.0</td>\n",
       "      <td>0.17</td>\n",
       "      <td>NaN</td>\n",
       "      <td>yaaJ</td>\n",
       "      <td>talB</td>\n",
       "      <td>False</td>\n",
       "    </tr>\n",
       "    <tr>\n",
       "      <th>11</th>\n",
       "      <td>yaaI_dnaK</td>\n",
       "      <td>376</td>\n",
       "      <td>Divergent</td>\n",
       "      <td>11787.0</td>\n",
       "      <td>12162.0</td>\n",
       "      <td>0.25</td>\n",
       "      <td>NaN</td>\n",
       "      <td>yaaI</td>\n",
       "      <td>dnaK</td>\n",
       "      <td>False</td>\n",
       "    </tr>\n",
       "    <tr>\n",
       "      <th>16</th>\n",
       "      <td>mokC_sokC</td>\n",
       "      <td>-9</td>\n",
       "      <td>Divergent</td>\n",
       "      <td>16952.0</td>\n",
       "      <td>16960.0</td>\n",
       "      <td>0.37</td>\n",
       "      <td>NaN</td>\n",
       "      <td>mokC</td>\n",
       "      <td>sokC</td>\n",
       "      <td>False</td>\n",
       "    </tr>\n",
       "    <tr>\n",
       "      <th>22</th>\n",
       "      <td>rpsT_yaaY</td>\n",
       "      <td>102</td>\n",
       "      <td>Divergent</td>\n",
       "      <td>21079.0</td>\n",
       "      <td>21180.0</td>\n",
       "      <td>0.45</td>\n",
       "      <td>NaN</td>\n",
       "      <td>rpsT</td>\n",
       "      <td>yaaY</td>\n",
       "      <td>False</td>\n",
       "    </tr>\n",
       "    <tr>\n",
       "      <th>39</th>\n",
       "      <td>caiT_fixA</td>\n",
       "      <td>471</td>\n",
       "      <td>Divergent</td>\n",
       "      <td>41932.0</td>\n",
       "      <td>42402.0</td>\n",
       "      <td>0.90</td>\n",
       "      <td>NaN</td>\n",
       "      <td>caiT</td>\n",
       "      <td>fixA</td>\n",
       "      <td>False</td>\n",
       "    </tr>\n",
       "    <tr>\n",
       "      <th>53</th>\n",
       "      <td>lptD_djlA</td>\n",
       "      <td>254</td>\n",
       "      <td>Divergent</td>\n",
       "      <td>57110.0</td>\n",
       "      <td>57363.0</td>\n",
       "      <td>1.23</td>\n",
       "      <td>NaN</td>\n",
       "      <td>lptD</td>\n",
       "      <td>djlA</td>\n",
       "      <td>False</td>\n",
       "    </tr>\n",
       "    <tr>\n",
       "      <th>61</th>\n",
       "      <td>araB_araC</td>\n",
       "      <td>338</td>\n",
       "      <td>Divergent</td>\n",
       "      <td>70049.0</td>\n",
       "      <td>70386.0</td>\n",
       "      <td>1.51</td>\n",
       "      <td>NaN</td>\n",
       "      <td>araB</td>\n",
       "      <td>araC</td>\n",
       "      <td>False</td>\n",
       "    </tr>\n",
       "    <tr>\n",
       "      <th>67</th>\n",
       "      <td>sgrR_sgrS</td>\n",
       "      <td>67</td>\n",
       "      <td>Divergent</td>\n",
       "      <td>77300.0</td>\n",
       "      <td>77366.0</td>\n",
       "      <td>1.67</td>\n",
       "      <td>NaN</td>\n",
       "      <td>sgrR</td>\n",
       "      <td>sgrS</td>\n",
       "      <td>False</td>\n",
       "    </tr>\n",
       "    <tr>\n",
       "      <th>74</th>\n",
       "      <td>leuL_leuO</td>\n",
       "      <td>659</td>\n",
       "      <td>Divergent</td>\n",
       "      <td>83709.0</td>\n",
       "      <td>84367.0</td>\n",
       "      <td>1.80</td>\n",
       "      <td>NaN</td>\n",
       "      <td>leuL</td>\n",
       "      <td>leuO</td>\n",
       "      <td>False</td>\n",
       "    </tr>\n",
       "    <tr>\n",
       "      <th>100</th>\n",
       "      <td>coaE_guaC</td>\n",
       "      <td>224</td>\n",
       "      <td>Divergent</td>\n",
       "      <td>113220.0</td>\n",
       "      <td>113443.0</td>\n",
       "      <td>2.44</td>\n",
       "      <td>NaN</td>\n",
       "      <td>coaE</td>\n",
       "      <td>guaC</td>\n",
       "      <td>False</td>\n",
       "    </tr>\n",
       "  </tbody>\n",
       "</table>\n",
       "</div>"
      ],
      "text/plain": [
       "          Name  Length Orientation     L_END     R_END    Cs  Unnamed: 6  \\\n",
       "6    yaaJ_talB     278   Divergent    7960.0    8237.0  0.17         NaN   \n",
       "11   yaaI_dnaK     376   Divergent   11787.0   12162.0  0.25         NaN   \n",
       "16   mokC_sokC      -9   Divergent   16952.0   16960.0  0.37         NaN   \n",
       "22   rpsT_yaaY     102   Divergent   21079.0   21180.0  0.45         NaN   \n",
       "39   caiT_fixA     471   Divergent   41932.0   42402.0  0.90         NaN   \n",
       "53   lptD_djlA     254   Divergent   57110.0   57363.0  1.23         NaN   \n",
       "61   araB_araC     338   Divergent   70049.0   70386.0  1.51         NaN   \n",
       "67   sgrR_sgrS      67   Divergent   77300.0   77366.0  1.67         NaN   \n",
       "74   leuL_leuO     659   Divergent   83709.0   84367.0  1.80         NaN   \n",
       "100  coaE_guaC     224   Divergent  113220.0  113443.0  2.44         NaN   \n",
       "\n",
       "    firstGene secondGene GeneInOperon  \n",
       "6        yaaJ       talB        False  \n",
       "11       yaaI       dnaK        False  \n",
       "16       mokC       sokC        False  \n",
       "22       rpsT       yaaY        False  \n",
       "39       caiT       fixA        False  \n",
       "53       lptD       djlA        False  \n",
       "61       araB       araC        False  \n",
       "67       sgrR       sgrS        False  \n",
       "74       leuL       leuO        False  \n",
       "100      coaE       guaC        False  "
      ]
     },
     "execution_count": 4,
     "metadata": {},
     "output_type": "execute_result"
    }
   ],
   "source": [
    "df_export_TU[:10]"
   ]
  },
  {
   "cell_type": "code",
   "execution_count": 5,
   "metadata": {
    "collapsed": true
   },
   "outputs": [],
   "source": [
    "df_seq = pd.read_table(\"./source/intergenic_seq\")"
   ]
  },
  {
   "cell_type": "code",
   "execution_count": 6,
   "metadata": {
    "collapsed": false
   },
   "outputs": [
    {
     "data": {
      "text/html": [
       "<div>\n",
       "<table border=\"1\" class=\"dataframe\">\n",
       "  <thead>\n",
       "    <tr style=\"text-align: right;\">\n",
       "      <th></th>\n",
       "      <th>&gt;thrL_thrA 81 bp Codirectional+ intergenic region</th>\n",
       "    </tr>\n",
       "  </thead>\n",
       "  <tbody>\n",
       "    <tr>\n",
       "      <th>0</th>\n",
       "      <td>GCGTACAGGAAACACAGAAAAAAGCCCGCACCTGACAGTGCGGGCT...</td>\n",
       "    </tr>\n",
       "    <tr>\n",
       "      <th>1</th>\n",
       "      <td>CAACCA</td>\n",
       "    </tr>\n",
       "    <tr>\n",
       "      <th>2</th>\n",
       "      <td>&gt;thrC_yaaX 213 bp Codirectional+ intergenic re...</td>\n",
       "    </tr>\n",
       "    <tr>\n",
       "      <th>3</th>\n",
       "      <td>ATCTATTCATTATCTCAATCAGGCCGGGTTTGCTTTTATGCAGCCC...</td>\n",
       "    </tr>\n",
       "    <tr>\n",
       "      <th>4</th>\n",
       "      <td>AATGACAGGGAAAAAGGAGAAATTCTCAATAAATGCGGTAACTTAG...</td>\n",
       "    </tr>\n",
       "    <tr>\n",
       "      <th>5</th>\n",
       "      <td>CGTTCTCATCGAGTAATCTCCGGATATCGACCCATAACGGGCAATG...</td>\n",
       "    </tr>\n",
       "    <tr>\n",
       "      <th>6</th>\n",
       "      <td>&gt;yaaX_yaaA 152 bp Convergent intergenic region</td>\n",
       "    </tr>\n",
       "    <tr>\n",
       "      <th>7</th>\n",
       "      <td>TGACAAATGCCGGGTAACAATCCGGCATTCAGCGCCTGATGCGACG...</td>\n",
       "    </tr>\n",
       "    <tr>\n",
       "      <th>8</th>\n",
       "      <td>TCTGCAATATATTGAATCTGCATGCTTTTGTAGGCAGGATAAGGCG...</td>\n",
       "    </tr>\n",
       "    <tr>\n",
       "      <th>9</th>\n",
       "      <td>CT</td>\n",
       "    </tr>\n",
       "  </tbody>\n",
       "</table>\n",
       "</div>"
      ],
      "text/plain": [
       "   >thrL_thrA 81 bp Codirectional+ intergenic region\n",
       "0  GCGTACAGGAAACACAGAAAAAAGCCCGCACCTGACAGTGCGGGCT...\n",
       "1                                             CAACCA\n",
       "2  >thrC_yaaX 213 bp Codirectional+ intergenic re...\n",
       "3  ATCTATTCATTATCTCAATCAGGCCGGGTTTGCTTTTATGCAGCCC...\n",
       "4  AATGACAGGGAAAAAGGAGAAATTCTCAATAAATGCGGTAACTTAG...\n",
       "5  CGTTCTCATCGAGTAATCTCCGGATATCGACCCATAACGGGCAATG...\n",
       "6     >yaaX_yaaA 152 bp Convergent intergenic region\n",
       "7  TGACAAATGCCGGGTAACAATCCGGCATTCAGCGCCTGATGCGACG...\n",
       "8  TCTGCAATATATTGAATCTGCATGCTTTTGTAGGCAGGATAAGGCG...\n",
       "9                                                 CT"
      ]
     },
     "execution_count": 6,
     "metadata": {},
     "output_type": "execute_result"
    }
   ],
   "source": [
    "df_seq[:10]"
   ]
  },
  {
   "cell_type": "code",
   "execution_count": 7,
   "metadata": {
    "collapsed": true
   },
   "outputs": [],
   "source": [
    "# Extracting sequences, ids and lengths from intergenic_seq fasta file\n",
    "from Bio import SeqIO\n",
    "with open('./source/intergenic_seq') as fasta_file:  # Will close handle cleanly\n",
    "    sequences = []\n",
    "    identifiers = []\n",
    "    lengths = []\n",
    "    for seq_record in SeqIO.parse(fasta_file, 'fasta'):  # (generator)\n",
    "        sequences.append(str(seq_record.seq))\n",
    "        identifiers.append(seq_record.id)\n",
    "        lengths.append(len(seq_record.seq))"
   ]
  },
  {
   "cell_type": "code",
   "execution_count": 8,
   "metadata": {
    "collapsed": false
   },
   "outputs": [
    {
     "data": {
      "text/html": [
       "<div>\n",
       "<table border=\"1\" class=\"dataframe\">\n",
       "  <thead>\n",
       "    <tr style=\"text-align: right;\">\n",
       "      <th></th>\n",
       "      <th>0</th>\n",
       "      <th>Sequence</th>\n",
       "      <th>Length</th>\n",
       "    </tr>\n",
       "  </thead>\n",
       "  <tbody>\n",
       "    <tr>\n",
       "      <th>0</th>\n",
       "      <td>thrL_thrA</td>\n",
       "      <td>GCGTACAGGAAACACAGAAAAAAGCCCGCACCTGACAGTGCGGGCT...</td>\n",
       "      <td>81</td>\n",
       "    </tr>\n",
       "    <tr>\n",
       "      <th>1</th>\n",
       "      <td>thrC_yaaX</td>\n",
       "      <td>ATCTATTCATTATCTCAATCAGGCCGGGTTTGCTTTTATGCAGCCC...</td>\n",
       "      <td>213</td>\n",
       "    </tr>\n",
       "    <tr>\n",
       "      <th>2</th>\n",
       "      <td>yaaX_yaaA</td>\n",
       "      <td>TGACAAATGCCGGGTAACAATCCGGCATTCAGCGCCTGATGCGACG...</td>\n",
       "      <td>152</td>\n",
       "    </tr>\n",
       "    <tr>\n",
       "      <th>3</th>\n",
       "      <td>yaaA_yaaJ</td>\n",
       "      <td>TCCAGTCCTTGCAGGAAATTTATGCCGACTTTAGCAAAAAATGAGA...</td>\n",
       "      <td>69</td>\n",
       "    </tr>\n",
       "    <tr>\n",
       "      <th>4</th>\n",
       "      <td>yaaJ_talB</td>\n",
       "      <td>CATATCCCTCTTATTGCCGGTCGCGATGACTTTCCTGTGTAAACGT...</td>\n",
       "      <td>278</td>\n",
       "    </tr>\n",
       "    <tr>\n",
       "      <th>5</th>\n",
       "      <td>talB_mog</td>\n",
       "      <td>CATTCTTAGCGTGACCGGGAAGTCGGTCACGCTACCTCTTCTGAAG...</td>\n",
       "      <td>114</td>\n",
       "    </tr>\n",
       "    <tr>\n",
       "      <th>6</th>\n",
       "      <td>satP_yaaW</td>\n",
       "      <td>ATTCCTCAAAAATCATCATCGAATGAATGGTGAAATAATTTCCCTG...</td>\n",
       "      <td>148</td>\n",
       "    </tr>\n",
       "    <tr>\n",
       "      <th>7</th>\n",
       "      <td>yaaI_dnaK</td>\n",
       "      <td>AGGATTCTCTTAGTGGGAAGAGGTAGGGGGATGAATACCCACTAGT...</td>\n",
       "      <td>376</td>\n",
       "    </tr>\n",
       "    <tr>\n",
       "      <th>8</th>\n",
       "      <td>dnaK_dnaJ</td>\n",
       "      <td>CGCCCTATAAACGGGTAATTATACTGACACGGGCGAAGGGGAATTT...</td>\n",
       "      <td>88</td>\n",
       "    </tr>\n",
       "    <tr>\n",
       "      <th>9</th>\n",
       "      <td>dnaJ_insL1</td>\n",
       "      <td>CTCCCCAAAAGCCTGCCCGTGGGCAGGCCTGGGTAAAAATAGGGTG...</td>\n",
       "      <td>146</td>\n",
       "    </tr>\n",
       "  </tbody>\n",
       "</table>\n",
       "</div>"
      ],
      "text/plain": [
       "            0                                           Sequence  Length\n",
       "0   thrL_thrA  GCGTACAGGAAACACAGAAAAAAGCCCGCACCTGACAGTGCGGGCT...      81\n",
       "1   thrC_yaaX  ATCTATTCATTATCTCAATCAGGCCGGGTTTGCTTTTATGCAGCCC...     213\n",
       "2   yaaX_yaaA  TGACAAATGCCGGGTAACAATCCGGCATTCAGCGCCTGATGCGACG...     152\n",
       "3   yaaA_yaaJ  TCCAGTCCTTGCAGGAAATTTATGCCGACTTTAGCAAAAAATGAGA...      69\n",
       "4   yaaJ_talB  CATATCCCTCTTATTGCCGGTCGCGATGACTTTCCTGTGTAAACGT...     278\n",
       "5    talB_mog  CATTCTTAGCGTGACCGGGAAGTCGGTCACGCTACCTCTTCTGAAG...     114\n",
       "6   satP_yaaW  ATTCCTCAAAAATCATCATCGAATGAATGGTGAAATAATTTCCCTG...     148\n",
       "7   yaaI_dnaK  AGGATTCTCTTAGTGGGAAGAGGTAGGGGGATGAATACCCACTAGT...     376\n",
       "8   dnaK_dnaJ  CGCCCTATAAACGGGTAATTATACTGACACGGGCGAAGGGGAATTT...      88\n",
       "9  dnaJ_insL1  CTCCCCAAAAGCCTGCCCGTGGGCAGGCCTGGGTAAAAATAGGGTG...     146"
      ]
     },
     "execution_count": 8,
     "metadata": {},
     "output_type": "execute_result"
    }
   ],
   "source": [
    "sequences[1]\n",
    "# Generating df with this information\n",
    "\n",
    "df_seq = pd.DataFrame(identifiers)\n",
    "df_seq[\"Sequence\"] = sequences\n",
    "df_seq[\"Length\"] = lengths\n",
    "df_seq[:10]"
   ]
  },
  {
   "cell_type": "code",
   "execution_count": 9,
   "metadata": {
    "collapsed": false
   },
   "outputs": [
    {
     "data": {
      "text/plain": [
       "'TGACAAATGCCGGGTAACAATCCGGCATTCAGCGCCTGATGCGACGCTGGCGCGTCTTATCAGGCCTACGTTAATTCTGCAATATATTGAATCTGCATGCTTTTGTAGGCAGGATAAGGCGTTCACGCCGCATCCGGCATTGACTGCAAACT'"
      ]
     },
     "execution_count": 9,
     "metadata": {},
     "output_type": "execute_result"
    }
   ],
   "source": [
    "df_seq[\"Sequence\"][2]"
   ]
  },
  {
   "cell_type": "code",
   "execution_count": 11,
   "metadata": {
    "collapsed": false
   },
   "outputs": [
    {
     "data": {
      "text/plain": [
       "((2606, 3), (2167, 10))"
      ]
     },
     "execution_count": 11,
     "metadata": {},
     "output_type": "execute_result"
    }
   ],
   "source": [
    "df_seq.shape, df_export_TU.shape"
   ]
  },
  {
   "cell_type": "code",
   "execution_count": 14,
   "metadata": {
    "collapsed": false
   },
   "outputs": [],
   "source": [
    "df_export_TU_positive = df_export_TU[df_export_TU[\"Length\"] > 0]"
   ]
  },
  {
   "cell_type": "code",
   "execution_count": 15,
   "metadata": {
    "collapsed": false
   },
   "outputs": [
    {
     "name": "stderr",
     "output_type": "stream",
     "text": [
      "/Users/jasonfontana/anaconda/lib/python2.7/site-packages/pandas/core/indexing.py:288: SettingWithCopyWarning: \n",
      "A value is trying to be set on a copy of a slice from a DataFrame.\n",
      "Try using .loc[row_indexer,col_indexer] = value instead\n",
      "\n",
      "See the caveats in the documentation: http://pandas.pydata.org/pandas-docs/stable/indexing.html#indexing-view-versus-copy\n",
      "  self.obj[key] = _infer_fill_value(value)\n",
      "/Users/jasonfontana/anaconda/lib/python2.7/site-packages/pandas/core/indexing.py:465: SettingWithCopyWarning: \n",
      "A value is trying to be set on a copy of a slice from a DataFrame.\n",
      "Try using .loc[row_indexer,col_indexer] = value instead\n",
      "\n",
      "See the caveats in the documentation: http://pandas.pydata.org/pandas-docs/stable/indexing.html#indexing-view-versus-copy\n",
      "  self.obj[item] = s\n"
     ]
    }
   ],
   "source": [
    "notFound = np.array([])\n",
    "for i in df_export_TU_positive.index:\n",
    "    currentName = df_export_TU_positive.loc[i, \"Name\"]\n",
    "    #print \"currentName is \" + str(currentName)\n",
    "    what = df_seq[df_seq[0] == currentName].index.values\n",
    "    #print \"what is \" + str(what), len(what)\n",
    "    if len(what) > 0:\n",
    "        seq = df_seq.get_value(what[0], \"Sequence\")\n",
    "        #print seq\n",
    "        df_export_TU_positive.loc[i, \"Sequence\"] = seq\n",
    "    else: \n",
    "        notFound = np.append(notFound, currentName)"
   ]
  },
  {
   "cell_type": "code",
   "execution_count": 16,
   "metadata": {
    "collapsed": false
   },
   "outputs": [
    {
     "data": {
      "text/plain": [
       "(177,)"
      ]
     },
     "execution_count": 16,
     "metadata": {},
     "output_type": "execute_result"
    }
   ],
   "source": [
    "# could not find a gene that has a negative size intergenic sequence. Now down to 177 genes not found\n",
    "notFound.shape\n",
    "# all these genes but one have intergenic sequences shorter than 50 bp, which we wouldn't use anyway I guess?"
   ]
  },
  {
   "cell_type": "code",
   "execution_count": 17,
   "metadata": {
    "collapsed": false
   },
   "outputs": [
    {
     "data": {
      "text/plain": [
       "(2037, 11)"
      ]
     },
     "execution_count": 17,
     "metadata": {},
     "output_type": "execute_result"
    }
   ],
   "source": [
    "df_export_TU_positive.shape"
   ]
  },
  {
   "cell_type": "code",
   "execution_count": 18,
   "metadata": {
    "collapsed": false
   },
   "outputs": [],
   "source": [
    "df_export_TU_positive.to_excel(\"./export/All-Annotated_TU-positive.xls\")"
   ]
  }
 ],
 "metadata": {
  "anaconda-cloud": {},
  "kernelspec": {
   "display_name": "Python [default]",
   "language": "python",
   "name": "python2"
  },
  "language_info": {
   "codemirror_mode": {
    "name": "ipython",
    "version": 2
   },
   "file_extension": ".py",
   "mimetype": "text/x-python",
   "name": "python",
   "nbconvert_exporter": "python",
   "pygments_lexer": "ipython2",
   "version": "2.7.13"
  }
 },
 "nbformat": 4,
 "nbformat_minor": 1
}
